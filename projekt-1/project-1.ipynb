{
 "cells": [
  {
   "cell_type": "markdown",
   "source": [
    "# Projekt 1 z przedmiotu DS&CC\n",
    "Przeanalizowanie zbioru danych, dotyczących wynajmu lokali poprzez platformę **Airbnb**.\n",
    "W moim przypadku wykorzystane są dane dla miasta ***Neapol, Kampania, Włochy***."
   ],
   "metadata": {
    "collapsed": false
   },
   "id": "5c2ee586a66efabd"
  },
  {
   "cell_type": "markdown",
   "source": [
    "### Krok 0 - Importowanie niezbędnych modułów do dalszej pracy\n",
    "\n",
    "- **Pandas** – biblioteka Python do pracy z danymi, posiada pomocne funkcje do obsługi brakujących danych, wykonywania operacji na kolumnach i wierszach oraz przekształcania danych.\n",
    "- **NumPy** – biblioteka Python, która ułatwia wydajne przeprowadzanie operacji numerycznych na dużych ilościach danych.\n",
    "- **Matplotlib** – niskopoziomowa biblioteka do tworzenia wykresów w Pythonie, która służy jako narzędzie do wizualizacji."
   ],
   "metadata": {
    "collapsed": false
   },
   "id": "5c3e068ba5aae15c"
  },
  {
   "cell_type": "code",
   "execution_count": 26,
   "id": "initial_id",
   "metadata": {
    "collapsed": true,
    "ExecuteTime": {
     "end_time": "2023-12-22T15:11:58.672567Z",
     "start_time": "2023-12-22T15:11:58.574964Z"
    }
   },
   "outputs": [],
   "source": [
    "import pandas as pd\n",
    "import numpy as np\n",
    "import matplotlib.pyplot as plt"
   ]
  },
  {
   "cell_type": "markdown",
   "source": [
    "### Krok 1 - Załadowanie\n",
    "Poprawne załadowanie danych ze źródła internetowego do ramki danych (*DataFrame*).\n",
    "\n",
    "Aby poprawnie załadować dane dotyczące wynajmu lokali, w moim przypadku to jest miasto Neapol, ze strony Airbnb z uwzględnieniem nagłówków, kodowania zbioru, separatorów itd. - należy użyć funkcji `pd.read_csv()`.\n",
    "\n",
    "Warto także pamiętać o poprawnym wpisaniu adresu **URL**."
   ],
   "metadata": {
    "collapsed": false
   },
   "id": "4ded731473898ae7"
  },
  {
   "cell_type": "code",
   "execution_count": 27,
   "outputs": [],
   "source": [
    "url = \"http://data.insideairbnb.com/italy/campania/naples/2023-09-13/data/listings.csv.gz\""
   ],
   "metadata": {
    "collapsed": false,
    "ExecuteTime": {
     "end_time": "2023-12-22T15:11:58.783133Z",
     "start_time": "2023-12-22T15:11:58.679193Z"
    }
   },
   "id": "585922cf1f84da98"
  },
  {
   "cell_type": "markdown",
   "source": [
    "Jak można zauważyć na stronie z danymi oraz w adresie URL, plik z danymi CSV jest pobierany w formacie `.gz`.\n",
    "<br/>\n",
    "![Format danych](./gz-ext.png)\n",
    "<br/>\n",
    "Żeby poprawnie wczytać i rozpakować dane, używam parametru `compression='gzip'`.\n",
    "Do określenia kodowania danych używam parametru `encoding='utf-8'`.\n",
    "Pandas także automatycznie wykrywa nagłówki, jeżeli dane ich zawierają.\n",
    "\n",
    "Tak wygląda funkcja poprawnego załadowania danych:"
   ],
   "metadata": {
    "collapsed": false
   },
   "id": "e4ef372f2de0ee09"
  },
  {
   "cell_type": "code",
   "execution_count": 28,
   "outputs": [],
   "source": [
    "df = pd.read_csv(url, compression='gzip', encoding='utf-8')"
   ],
   "metadata": {
    "collapsed": false,
    "ExecuteTime": {
     "end_time": "2023-12-22T15:12:12.073156Z",
     "start_time": "2023-12-22T15:11:58.796076Z"
    }
   },
   "id": "ea0054e1ce2bff00"
  },
  {
   "cell_type": "markdown",
   "source": [
    "### Krok 2 - Poznanie\n",
    "Poznanie rozmiaru zbioru danych (liczby obserwacji i liczby zmiennych, które je opisują) i oszacowanie czasochłonności procesu analizy.\n",
    "\n",
    "Za pomocą funkcji `df.shape` można dostać krotkę reprezentującą wymiarowość ramki ***DataFrame***."
   ],
   "metadata": {
    "collapsed": false
   },
   "id": "ede9d01262f9d767"
  },
  {
   "cell_type": "code",
   "execution_count": 29,
   "outputs": [
    {
     "data": {
      "text/plain": "(9754, 75)"
     },
     "execution_count": 29,
     "metadata": {},
     "output_type": "execute_result"
    }
   ],
   "source": [
    "df.shape"
   ],
   "metadata": {
    "collapsed": false,
    "ExecuteTime": {
     "end_time": "2023-12-22T15:12:12.087484Z",
     "start_time": "2023-12-22T15:12:12.076781Z"
    }
   },
   "id": "e2ee9d1fd755acc3"
  },
  {
   "cell_type": "markdown",
   "source": [
    "W moim przypadku dostałem dwuelementową krotkę, w której *0* element reprezentuje wierszy (liczba obserwacji) i *1* element reprezentuje kolumny (liczba zmiennych). \n",
    "\n",
    "Prostymi poleceniami poznaję liczbę obserwacji, liczbę zmiennych oraz całkowity rozmiar zbioru danych:"
   ],
   "metadata": {
    "collapsed": false
   },
   "id": "7e6ff5b722b3e0ad"
  },
  {
   "cell_type": "code",
   "execution_count": 30,
   "outputs": [
    {
     "name": "stdout",
     "output_type": "stream",
     "text": [
      "Liczba obserwacji: 9754 \n",
      "Liczba zmiennych: 75\n",
      "\n",
      "Rozmiar zbioru danych: 731550\n"
     ]
    }
   ],
   "source": [
    "liczba_obserwacji = df.shape[0]\n",
    "liczba_zmiennych = df.shape[1]\n",
    "print(\"Liczba obserwacji:\", liczba_obserwacji, \"\\nLiczba zmiennych:\", liczba_zmiennych)\n",
    "\n",
    "rozmiar_zbioru = df.size\n",
    "print(\"\\nRozmiar zbioru danych:\", rozmiar_zbioru)"
   ],
   "metadata": {
    "collapsed": false,
    "ExecuteTime": {
     "end_time": "2023-12-22T15:12:12.089047Z",
     "start_time": "2023-12-22T15:12:12.083667Z"
    }
   },
   "id": "99c8d86460e0b6b6"
  },
  {
   "cell_type": "markdown",
   "source": [
    "### Krok 3 - Wyświetlenie\n",
    "Wyświetlenie próbki surowych danych w celu wyrobienia sobie wyobrażenia o nich – poznania struktury danych i wstępnej oceny przydatności poszczególnych zmiennych.\n",
    "\n",
    "Po pobraniu danych ze źródła należy sprawdzić, czy dane są poprawnie wyświetlane oraz zapoznać się z ich strukturą. Za pomocą funkcji `df.head()` zostanie wyświetlona próbka surowych danych (pierwsze 5 obserwacji).\n",
    "\n",
    "Od razu po poprawnym wyświetleniu można zapoznać się ze strukturą danych oraz zobaczyć zmienne zawierające w tych danych."
   ],
   "metadata": {
    "collapsed": false
   },
   "id": "4c878884c2a94a6f"
  },
  {
   "cell_type": "code",
   "execution_count": 31,
   "outputs": [
    {
     "data": {
      "text/plain": "      id                         listing_url       scrape_id last_scraped  \\\n0  30466  https://www.airbnb.com/rooms/30466  20230913045323   2023-09-13   \n1  30536  https://www.airbnb.com/rooms/30536  20230913045323   2023-09-13   \n2  36016  https://www.airbnb.com/rooms/36016  20230913045323   2023-09-13   \n3  63413  https://www.airbnb.com/rooms/63413  20230913045323   2023-09-13   \n4  74364  https://www.airbnb.com/rooms/74364  20230913045323   2023-09-13   \n\n        source                                               name  \\\n0  city scrape  Bed and breakfast in Naples · 1 bedroom · 1 be...   \n1  city scrape  Condo in Naples · ★4.74 · 1 bedroom · 1 bed · ...   \n2  city scrape  Rental unit in Naples · ★4.57 · 1 bedroom · 1 ...   \n3  city scrape  Rental unit in Naples · ★4.68 · 1 bedroom · 1 ...   \n4  city scrape  Rental unit in Naples · ★4.91 · 1 bedroom · 1 ...   \n\n                                         description  \\\n0  Right in the heart of Napoli  you can walk any...   \n1  Oriental decorated apartment with wonderful te...   \n2  Nel cuore del centro storico di napoli l'appar...   \n3  Centrally located and at walking distance to t...   \n4  A really cozy studio (24 square meters) in a p...   \n\n                               neighborhood_overview  \\\n0  close to 2 underground lines, next to bus stop...   \n1  Centrally located,close to public transport, i...   \n2                                                NaN   \n3                                                NaN   \n4  The flat is in the OLD TOWN od Napoli with 2 m...   \n\n                                         picture_url   host_id  ...  \\\n0  https://a0.muscache.com/pictures/miso/Hosting-...  14169118  ...   \n1  https://a0.muscache.com/pictures/171280/92fe69...  14169118  ...   \n2  https://a0.muscache.com/pictures/23981786/4de5...    154638  ...   \n3  https://a0.muscache.com/pictures/389538/99361e...    309483  ...   \n4  https://a0.muscache.com/pictures/c8a48f3d-1be3...    289412  ...   \n\n  review_scores_communication review_scores_location review_scores_value  \\\n0                        5.00                   5.00                5.00   \n1                        4.78                   4.44                4.56   \n2                        4.80                   4.72                4.55   \n3                        4.83                   4.71                4.72   \n4                        4.97                   4.86                4.90   \n\n  license instant_bookable calculated_host_listings_count  \\\n0     NaN                f                              8   \n1     NaN                f                              8   \n2     NaN                t                              2   \n3     NaN                t                              1   \n4     NaN                f                              8   \n\n  calculated_host_listings_count_entire_homes  \\\n0                                           1   \n1                                           1   \n2                                           2   \n3                                           1   \n4                                           8   \n\n  calculated_host_listings_count_private_rooms  \\\n0                                            7   \n1                                            7   \n2                                            0   \n3                                            0   \n4                                            0   \n\n  calculated_host_listings_count_shared_rooms reviews_per_month  \n0                                           0              0.42  \n1                                           0              0.12  \n2                                           0              0.91  \n3                                           0              0.84  \n4                                           0              1.61  \n\n[5 rows x 75 columns]",
      "text/html": "<div>\n<style scoped>\n    .dataframe tbody tr th:only-of-type {\n        vertical-align: middle;\n    }\n\n    .dataframe tbody tr th {\n        vertical-align: top;\n    }\n\n    .dataframe thead th {\n        text-align: right;\n    }\n</style>\n<table border=\"1\" class=\"dataframe\">\n  <thead>\n    <tr style=\"text-align: right;\">\n      <th></th>\n      <th>id</th>\n      <th>listing_url</th>\n      <th>scrape_id</th>\n      <th>last_scraped</th>\n      <th>source</th>\n      <th>name</th>\n      <th>description</th>\n      <th>neighborhood_overview</th>\n      <th>picture_url</th>\n      <th>host_id</th>\n      <th>...</th>\n      <th>review_scores_communication</th>\n      <th>review_scores_location</th>\n      <th>review_scores_value</th>\n      <th>license</th>\n      <th>instant_bookable</th>\n      <th>calculated_host_listings_count</th>\n      <th>calculated_host_listings_count_entire_homes</th>\n      <th>calculated_host_listings_count_private_rooms</th>\n      <th>calculated_host_listings_count_shared_rooms</th>\n      <th>reviews_per_month</th>\n    </tr>\n  </thead>\n  <tbody>\n    <tr>\n      <th>0</th>\n      <td>30466</td>\n      <td>https://www.airbnb.com/rooms/30466</td>\n      <td>20230913045323</td>\n      <td>2023-09-13</td>\n      <td>city scrape</td>\n      <td>Bed and breakfast in Naples · 1 bedroom · 1 be...</td>\n      <td>Right in the heart of Napoli  you can walk any...</td>\n      <td>close to 2 underground lines, next to bus stop...</td>\n      <td>https://a0.muscache.com/pictures/miso/Hosting-...</td>\n      <td>14169118</td>\n      <td>...</td>\n      <td>5.00</td>\n      <td>5.00</td>\n      <td>5.00</td>\n      <td>NaN</td>\n      <td>f</td>\n      <td>8</td>\n      <td>1</td>\n      <td>7</td>\n      <td>0</td>\n      <td>0.42</td>\n    </tr>\n    <tr>\n      <th>1</th>\n      <td>30536</td>\n      <td>https://www.airbnb.com/rooms/30536</td>\n      <td>20230913045323</td>\n      <td>2023-09-13</td>\n      <td>city scrape</td>\n      <td>Condo in Naples · ★4.74 · 1 bedroom · 1 bed · ...</td>\n      <td>Oriental decorated apartment with wonderful te...</td>\n      <td>Centrally located,close to public transport, i...</td>\n      <td>https://a0.muscache.com/pictures/171280/92fe69...</td>\n      <td>14169118</td>\n      <td>...</td>\n      <td>4.78</td>\n      <td>4.44</td>\n      <td>4.56</td>\n      <td>NaN</td>\n      <td>f</td>\n      <td>8</td>\n      <td>1</td>\n      <td>7</td>\n      <td>0</td>\n      <td>0.12</td>\n    </tr>\n    <tr>\n      <th>2</th>\n      <td>36016</td>\n      <td>https://www.airbnb.com/rooms/36016</td>\n      <td>20230913045323</td>\n      <td>2023-09-13</td>\n      <td>city scrape</td>\n      <td>Rental unit in Naples · ★4.57 · 1 bedroom · 1 ...</td>\n      <td>Nel cuore del centro storico di napoli l'appar...</td>\n      <td>NaN</td>\n      <td>https://a0.muscache.com/pictures/23981786/4de5...</td>\n      <td>154638</td>\n      <td>...</td>\n      <td>4.80</td>\n      <td>4.72</td>\n      <td>4.55</td>\n      <td>NaN</td>\n      <td>t</td>\n      <td>2</td>\n      <td>2</td>\n      <td>0</td>\n      <td>0</td>\n      <td>0.91</td>\n    </tr>\n    <tr>\n      <th>3</th>\n      <td>63413</td>\n      <td>https://www.airbnb.com/rooms/63413</td>\n      <td>20230913045323</td>\n      <td>2023-09-13</td>\n      <td>city scrape</td>\n      <td>Rental unit in Naples · ★4.68 · 1 bedroom · 1 ...</td>\n      <td>Centrally located and at walking distance to t...</td>\n      <td>NaN</td>\n      <td>https://a0.muscache.com/pictures/389538/99361e...</td>\n      <td>309483</td>\n      <td>...</td>\n      <td>4.83</td>\n      <td>4.71</td>\n      <td>4.72</td>\n      <td>NaN</td>\n      <td>t</td>\n      <td>1</td>\n      <td>1</td>\n      <td>0</td>\n      <td>0</td>\n      <td>0.84</td>\n    </tr>\n    <tr>\n      <th>4</th>\n      <td>74364</td>\n      <td>https://www.airbnb.com/rooms/74364</td>\n      <td>20230913045323</td>\n      <td>2023-09-13</td>\n      <td>city scrape</td>\n      <td>Rental unit in Naples · ★4.91 · 1 bedroom · 1 ...</td>\n      <td>A really cozy studio (24 square meters) in a p...</td>\n      <td>The flat is in the OLD TOWN od Napoli with 2 m...</td>\n      <td>https://a0.muscache.com/pictures/c8a48f3d-1be3...</td>\n      <td>289412</td>\n      <td>...</td>\n      <td>4.97</td>\n      <td>4.86</td>\n      <td>4.90</td>\n      <td>NaN</td>\n      <td>f</td>\n      <td>8</td>\n      <td>8</td>\n      <td>0</td>\n      <td>0</td>\n      <td>1.61</td>\n    </tr>\n  </tbody>\n</table>\n<p>5 rows × 75 columns</p>\n</div>"
     },
     "execution_count": 31,
     "metadata": {},
     "output_type": "execute_result"
    }
   ],
   "source": [
    "df.head()"
   ],
   "metadata": {
    "collapsed": false,
    "ExecuteTime": {
     "end_time": "2023-12-22T15:12:12.167439Z",
     "start_time": "2023-12-22T15:12:12.108157Z"
    }
   },
   "id": "8e4a5abdfa664123"
  },
  {
   "cell_type": "markdown",
   "source": [
    "Dla wygody utworzę osobną zmienną `surowe_dane` i za pomocą funkcji `.info()` zostanie wyświetlone krótkie podsumowanie ramki ***DataFrame*** (*index dtype and columns, non-null values and memory usage*)."
   ],
   "metadata": {
    "collapsed": false
   },
   "id": "aee7da4a0b92a83c"
  },
  {
   "cell_type": "code",
   "execution_count": 32,
   "outputs": [
    {
     "name": "stdout",
     "output_type": "stream",
     "text": [
      "<class 'pandas.core.frame.DataFrame'>\n",
      "RangeIndex: 5 entries, 0 to 4\n",
      "Data columns (total 75 columns):\n",
      " #   Column                                        Non-Null Count  Dtype  \n",
      "---  ------                                        --------------  -----  \n",
      " 0   id                                            5 non-null      int64  \n",
      " 1   listing_url                                   5 non-null      object \n",
      " 2   scrape_id                                     5 non-null      int64  \n",
      " 3   last_scraped                                  5 non-null      object \n",
      " 4   source                                        5 non-null      object \n",
      " 5   name                                          5 non-null      object \n",
      " 6   description                                   5 non-null      object \n",
      " 7   neighborhood_overview                         3 non-null      object \n",
      " 8   picture_url                                   5 non-null      object \n",
      " 9   host_id                                       5 non-null      int64  \n",
      " 10  host_url                                      5 non-null      object \n",
      " 11  host_name                                     5 non-null      object \n",
      " 12  host_since                                    5 non-null      object \n",
      " 13  host_location                                 3 non-null      object \n",
      " 14  host_about                                    5 non-null      object \n",
      " 15  host_response_time                            4 non-null      object \n",
      " 16  host_response_rate                            4 non-null      object \n",
      " 17  host_acceptance_rate                          5 non-null      object \n",
      " 18  host_is_superhost                             5 non-null      object \n",
      " 19  host_thumbnail_url                            5 non-null      object \n",
      " 20  host_picture_url                              5 non-null      object \n",
      " 21  host_neighbourhood                            0 non-null      object \n",
      " 22  host_listings_count                           5 non-null      int64  \n",
      " 23  host_total_listings_count                     5 non-null      int64  \n",
      " 24  host_verifications                            5 non-null      object \n",
      " 25  host_has_profile_pic                          5 non-null      object \n",
      " 26  host_identity_verified                        5 non-null      object \n",
      " 27  neighbourhood                                 3 non-null      object \n",
      " 28  neighbourhood_cleansed                        5 non-null      object \n",
      " 29  neighbourhood_group_cleansed                  0 non-null      float64\n",
      " 30  latitude                                      5 non-null      float64\n",
      " 31  longitude                                     5 non-null      float64\n",
      " 32  property_type                                 5 non-null      object \n",
      " 33  room_type                                     5 non-null      object \n",
      " 34  accommodates                                  5 non-null      int64  \n",
      " 35  bathrooms                                     0 non-null      float64\n",
      " 36  bathrooms_text                                5 non-null      object \n",
      " 37  bedrooms                                      3 non-null      float64\n",
      " 38  beds                                          5 non-null      float64\n",
      " 39  amenities                                     5 non-null      object \n",
      " 40  price                                         5 non-null      object \n",
      " 41  minimum_nights                                5 non-null      int64  \n",
      " 42  maximum_nights                                5 non-null      int64  \n",
      " 43  minimum_minimum_nights                        5 non-null      int64  \n",
      " 44  maximum_minimum_nights                        5 non-null      int64  \n",
      " 45  minimum_maximum_nights                        5 non-null      int64  \n",
      " 46  maximum_maximum_nights                        5 non-null      int64  \n",
      " 47  minimum_nights_avg_ntm                        5 non-null      float64\n",
      " 48  maximum_nights_avg_ntm                        5 non-null      float64\n",
      " 49  calendar_updated                              0 non-null      float64\n",
      " 50  has_availability                              5 non-null      object \n",
      " 51  availability_30                               5 non-null      int64  \n",
      " 52  availability_60                               5 non-null      int64  \n",
      " 53  availability_90                               5 non-null      int64  \n",
      " 54  availability_365                              5 non-null      int64  \n",
      " 55  calendar_last_scraped                         5 non-null      object \n",
      " 56  number_of_reviews                             5 non-null      int64  \n",
      " 57  number_of_reviews_ltm                         5 non-null      int64  \n",
      " 58  number_of_reviews_l30d                        5 non-null      int64  \n",
      " 59  first_review                                  5 non-null      object \n",
      " 60  last_review                                   5 non-null      object \n",
      " 61  review_scores_rating                          5 non-null      float64\n",
      " 62  review_scores_accuracy                        5 non-null      float64\n",
      " 63  review_scores_cleanliness                     5 non-null      float64\n",
      " 64  review_scores_checkin                         5 non-null      float64\n",
      " 65  review_scores_communication                   5 non-null      float64\n",
      " 66  review_scores_location                        5 non-null      float64\n",
      " 67  review_scores_value                           5 non-null      float64\n",
      " 68  license                                       0 non-null      object \n",
      " 69  instant_bookable                              5 non-null      object \n",
      " 70  calculated_host_listings_count                5 non-null      int64  \n",
      " 71  calculated_host_listings_count_entire_homes   5 non-null      int64  \n",
      " 72  calculated_host_listings_count_private_rooms  5 non-null      int64  \n",
      " 73  calculated_host_listings_count_shared_rooms   5 non-null      int64  \n",
      " 74  reviews_per_month                             5 non-null      float64\n",
      "dtypes: float64(17), int64(23), object(35)\n",
      "memory usage: 3.1+ KB\n"
     ]
    }
   ],
   "source": [
    "surowe_dane = df.head()\n",
    "surowe_dane.info()"
   ],
   "metadata": {
    "collapsed": false,
    "ExecuteTime": {
     "end_time": "2023-12-22T15:12:12.209182Z",
     "start_time": "2023-12-22T15:12:12.127900Z"
    }
   },
   "id": "e8fdae5531c084b5"
  },
  {
   "cell_type": "code",
   "execution_count": 33,
   "outputs": [
    {
     "data": {
      "text/plain": "                id     scrape_id       host_id  host_listings_count  \\\ncount      5.00000  5.000000e+00  5.000000e+00             5.000000   \nmean   46959.00000  2.023091e+13  5.818354e+06             5.800000   \nstd    20513.72326  0.000000e+00  7.623402e+06             4.024922   \nmin    30466.00000  2.023091e+13  1.546380e+05             1.000000   \n25%    30536.00000  2.023091e+13  2.894120e+05             2.000000   \n50%    36016.00000  2.023091e+13  3.094830e+05             8.000000   \n75%    63413.00000  2.023091e+13  1.416912e+07             8.000000   \nmax    74364.00000  2.023091e+13  1.416912e+07            10.000000   \n\n       host_total_listings_count  neighbourhood_group_cleansed   latitude  \\\ncount                   5.000000                           0.0   5.000000   \nmean                    8.000000                           NaN  40.849216   \nstd                     4.242641                           NaN   0.010049   \nmin                     2.000000                           NaN  40.832160   \n25%                     5.000000                           NaN  40.849670   \n50%                    11.000000                           NaN  40.851070   \n75%                    11.000000                           NaN  40.856020   \nmax                    11.000000                           NaN  40.857160   \n\n       longitude  accommodates  bathrooms  ...  review_scores_cleanliness  \\\ncount   5.000000      5.000000        0.0  ...                   5.000000   \nmean   14.250938      2.200000        NaN  ...                   4.756000   \nstd     0.013917      1.095445        NaN  ...                   0.201196   \nmin    14.226420      1.000000        NaN  ...                   4.520000   \n25%    14.252970      2.000000        NaN  ...                   4.620000   \n50%    14.257810      2.000000        NaN  ...                   4.720000   \n75%    14.258350      2.000000        NaN  ...                   4.920000   \nmax    14.259140      4.000000        NaN  ...                   5.000000   \n\n       review_scores_checkin  review_scores_communication  \\\ncount               5.000000                     5.000000   \nmean                4.918000                     4.876000   \nstd                 0.068337                     0.101637   \nmin                 4.830000                     4.780000   \n25%                 4.870000                     4.800000   \n50%                 4.930000                     4.830000   \n75%                 4.960000                     4.970000   \nmax                 5.000000                     5.000000   \n\n       review_scores_location  review_scores_value  \\\ncount                5.000000             5.000000   \nmean                 4.746000             4.746000   \nstd                  0.208038             0.201196   \nmin                  4.440000             4.550000   \n25%                  4.710000             4.560000   \n50%                  4.720000             4.720000   \n75%                  4.860000             4.900000   \nmax                  5.000000             5.000000   \n\n       calculated_host_listings_count  \\\ncount                        5.000000   \nmean                         5.400000   \nstd                          3.577709   \nmin                          1.000000   \n25%                          2.000000   \n50%                          8.000000   \n75%                          8.000000   \nmax                          8.000000   \n\n       calculated_host_listings_count_entire_homes  \\\ncount                                      5.00000   \nmean                                       2.60000   \nstd                                        3.04959   \nmin                                        1.00000   \n25%                                        1.00000   \n50%                                        1.00000   \n75%                                        2.00000   \nmax                                        8.00000   \n\n       calculated_host_listings_count_private_rooms  \\\ncount                                      5.000000   \nmean                                       2.800000   \nstd                                        3.834058   \nmin                                        0.000000   \n25%                                        0.000000   \n50%                                        0.000000   \n75%                                        7.000000   \nmax                                        7.000000   \n\n       calculated_host_listings_count_shared_rooms  reviews_per_month  \ncount                                          5.0           5.000000  \nmean                                           0.0           0.780000  \nstd                                            0.0           0.564491  \nmin                                            0.0           0.120000  \n25%                                            0.0           0.420000  \n50%                                            0.0           0.840000  \n75%                                            0.0           0.910000  \nmax                                            0.0           1.610000  \n\n[8 rows x 40 columns]",
      "text/html": "<div>\n<style scoped>\n    .dataframe tbody tr th:only-of-type {\n        vertical-align: middle;\n    }\n\n    .dataframe tbody tr th {\n        vertical-align: top;\n    }\n\n    .dataframe thead th {\n        text-align: right;\n    }\n</style>\n<table border=\"1\" class=\"dataframe\">\n  <thead>\n    <tr style=\"text-align: right;\">\n      <th></th>\n      <th>id</th>\n      <th>scrape_id</th>\n      <th>host_id</th>\n      <th>host_listings_count</th>\n      <th>host_total_listings_count</th>\n      <th>neighbourhood_group_cleansed</th>\n      <th>latitude</th>\n      <th>longitude</th>\n      <th>accommodates</th>\n      <th>bathrooms</th>\n      <th>...</th>\n      <th>review_scores_cleanliness</th>\n      <th>review_scores_checkin</th>\n      <th>review_scores_communication</th>\n      <th>review_scores_location</th>\n      <th>review_scores_value</th>\n      <th>calculated_host_listings_count</th>\n      <th>calculated_host_listings_count_entire_homes</th>\n      <th>calculated_host_listings_count_private_rooms</th>\n      <th>calculated_host_listings_count_shared_rooms</th>\n      <th>reviews_per_month</th>\n    </tr>\n  </thead>\n  <tbody>\n    <tr>\n      <th>count</th>\n      <td>5.00000</td>\n      <td>5.000000e+00</td>\n      <td>5.000000e+00</td>\n      <td>5.000000</td>\n      <td>5.000000</td>\n      <td>0.0</td>\n      <td>5.000000</td>\n      <td>5.000000</td>\n      <td>5.000000</td>\n      <td>0.0</td>\n      <td>...</td>\n      <td>5.000000</td>\n      <td>5.000000</td>\n      <td>5.000000</td>\n      <td>5.000000</td>\n      <td>5.000000</td>\n      <td>5.000000</td>\n      <td>5.00000</td>\n      <td>5.000000</td>\n      <td>5.0</td>\n      <td>5.000000</td>\n    </tr>\n    <tr>\n      <th>mean</th>\n      <td>46959.00000</td>\n      <td>2.023091e+13</td>\n      <td>5.818354e+06</td>\n      <td>5.800000</td>\n      <td>8.000000</td>\n      <td>NaN</td>\n      <td>40.849216</td>\n      <td>14.250938</td>\n      <td>2.200000</td>\n      <td>NaN</td>\n      <td>...</td>\n      <td>4.756000</td>\n      <td>4.918000</td>\n      <td>4.876000</td>\n      <td>4.746000</td>\n      <td>4.746000</td>\n      <td>5.400000</td>\n      <td>2.60000</td>\n      <td>2.800000</td>\n      <td>0.0</td>\n      <td>0.780000</td>\n    </tr>\n    <tr>\n      <th>std</th>\n      <td>20513.72326</td>\n      <td>0.000000e+00</td>\n      <td>7.623402e+06</td>\n      <td>4.024922</td>\n      <td>4.242641</td>\n      <td>NaN</td>\n      <td>0.010049</td>\n      <td>0.013917</td>\n      <td>1.095445</td>\n      <td>NaN</td>\n      <td>...</td>\n      <td>0.201196</td>\n      <td>0.068337</td>\n      <td>0.101637</td>\n      <td>0.208038</td>\n      <td>0.201196</td>\n      <td>3.577709</td>\n      <td>3.04959</td>\n      <td>3.834058</td>\n      <td>0.0</td>\n      <td>0.564491</td>\n    </tr>\n    <tr>\n      <th>min</th>\n      <td>30466.00000</td>\n      <td>2.023091e+13</td>\n      <td>1.546380e+05</td>\n      <td>1.000000</td>\n      <td>2.000000</td>\n      <td>NaN</td>\n      <td>40.832160</td>\n      <td>14.226420</td>\n      <td>1.000000</td>\n      <td>NaN</td>\n      <td>...</td>\n      <td>4.520000</td>\n      <td>4.830000</td>\n      <td>4.780000</td>\n      <td>4.440000</td>\n      <td>4.550000</td>\n      <td>1.000000</td>\n      <td>1.00000</td>\n      <td>0.000000</td>\n      <td>0.0</td>\n      <td>0.120000</td>\n    </tr>\n    <tr>\n      <th>25%</th>\n      <td>30536.00000</td>\n      <td>2.023091e+13</td>\n      <td>2.894120e+05</td>\n      <td>2.000000</td>\n      <td>5.000000</td>\n      <td>NaN</td>\n      <td>40.849670</td>\n      <td>14.252970</td>\n      <td>2.000000</td>\n      <td>NaN</td>\n      <td>...</td>\n      <td>4.620000</td>\n      <td>4.870000</td>\n      <td>4.800000</td>\n      <td>4.710000</td>\n      <td>4.560000</td>\n      <td>2.000000</td>\n      <td>1.00000</td>\n      <td>0.000000</td>\n      <td>0.0</td>\n      <td>0.420000</td>\n    </tr>\n    <tr>\n      <th>50%</th>\n      <td>36016.00000</td>\n      <td>2.023091e+13</td>\n      <td>3.094830e+05</td>\n      <td>8.000000</td>\n      <td>11.000000</td>\n      <td>NaN</td>\n      <td>40.851070</td>\n      <td>14.257810</td>\n      <td>2.000000</td>\n      <td>NaN</td>\n      <td>...</td>\n      <td>4.720000</td>\n      <td>4.930000</td>\n      <td>4.830000</td>\n      <td>4.720000</td>\n      <td>4.720000</td>\n      <td>8.000000</td>\n      <td>1.00000</td>\n      <td>0.000000</td>\n      <td>0.0</td>\n      <td>0.840000</td>\n    </tr>\n    <tr>\n      <th>75%</th>\n      <td>63413.00000</td>\n      <td>2.023091e+13</td>\n      <td>1.416912e+07</td>\n      <td>8.000000</td>\n      <td>11.000000</td>\n      <td>NaN</td>\n      <td>40.856020</td>\n      <td>14.258350</td>\n      <td>2.000000</td>\n      <td>NaN</td>\n      <td>...</td>\n      <td>4.920000</td>\n      <td>4.960000</td>\n      <td>4.970000</td>\n      <td>4.860000</td>\n      <td>4.900000</td>\n      <td>8.000000</td>\n      <td>2.00000</td>\n      <td>7.000000</td>\n      <td>0.0</td>\n      <td>0.910000</td>\n    </tr>\n    <tr>\n      <th>max</th>\n      <td>74364.00000</td>\n      <td>2.023091e+13</td>\n      <td>1.416912e+07</td>\n      <td>10.000000</td>\n      <td>11.000000</td>\n      <td>NaN</td>\n      <td>40.857160</td>\n      <td>14.259140</td>\n      <td>4.000000</td>\n      <td>NaN</td>\n      <td>...</td>\n      <td>5.000000</td>\n      <td>5.000000</td>\n      <td>5.000000</td>\n      <td>5.000000</td>\n      <td>5.000000</td>\n      <td>8.000000</td>\n      <td>8.00000</td>\n      <td>7.000000</td>\n      <td>0.0</td>\n      <td>1.610000</td>\n    </tr>\n  </tbody>\n</table>\n<p>8 rows × 40 columns</p>\n</div>"
     },
     "execution_count": 33,
     "metadata": {},
     "output_type": "execute_result"
    }
   ],
   "source": [
    "surowe_dane.describe()"
   ],
   "metadata": {
    "collapsed": false,
    "ExecuteTime": {
     "end_time": "2023-12-22T15:12:12.240692Z",
     "start_time": "2023-12-22T15:12:12.134109Z"
    }
   },
   "id": "f323f5c1d1d03ca2"
  },
  {
   "cell_type": "markdown",
   "source": [
    "### Krok 4 - Weryfikacja\n",
    "Weryfikacja typów poszczególnych zmiennych (całkowite, zmiennoprzecinkowe, kategoryczne porządkowe, kategoryczne nominalne, zmienne typu logicznego, daty) i ich ewentualna korekta (zamiana typu string na float, interpretacja zmiennych numerycznych jako kategorii itp.)."
   ],
   "metadata": {
    "collapsed": false
   },
   "id": "ed10257e4c2d5520"
  },
  {
   "cell_type": "markdown",
   "source": [
    "### Zamiana typu danych\n",
    "Jeśli zmienna powinna być numeryczna, ale jest traktowana jako ciąg znaków (object), możesz użyć funkcji astype() do zmiany typu danych."
   ],
   "metadata": {
    "collapsed": false
   },
   "id": "1139046a9e715ba5"
  },
  {
   "cell_type": "code",
   "execution_count": 33,
   "outputs": [],
   "source": [],
   "metadata": {
    "collapsed": false,
    "ExecuteTime": {
     "end_time": "2023-12-22T15:12:12.241464Z",
     "start_time": "2023-12-22T15:12:12.214889Z"
    }
   },
   "id": "d1e84d3bd522e132"
  },
  {
   "cell_type": "code",
   "execution_count": 33,
   "outputs": [],
   "source": [],
   "metadata": {
    "collapsed": false,
    "ExecuteTime": {
     "end_time": "2023-12-22T15:12:12.241875Z",
     "start_time": "2023-12-22T15:12:12.220788Z"
    }
   },
   "id": "af2680a3b3d94087"
  }
 ],
 "metadata": {
  "kernelspec": {
   "display_name": "Python 3",
   "language": "python",
   "name": "python3"
  },
  "language_info": {
   "codemirror_mode": {
    "name": "ipython",
    "version": 2
   },
   "file_extension": ".py",
   "mimetype": "text/x-python",
   "name": "python",
   "nbconvert_exporter": "python",
   "pygments_lexer": "ipython2",
   "version": "2.7.6"
  }
 },
 "nbformat": 4,
 "nbformat_minor": 5
}
