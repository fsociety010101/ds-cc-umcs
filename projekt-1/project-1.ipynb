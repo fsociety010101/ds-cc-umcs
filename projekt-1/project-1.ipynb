{
 "cells": [
  {
   "cell_type": "markdown",
   "id": "5c2ee586a66efabd",
   "metadata": {
    "collapsed": false
   },
   "source": [
    "# Projekt 1 z przedmiotu DS&CC\n",
    "Przeanalizowanie zbioru danych, dotyczących wynajmu lokali poprzez platformę **Airbnb**.\n",
    "W moim przypadku wykorzystane są dane dla miasta ***Neapol, Kampania, Włochy***."
   ]
  },
  {
   "cell_type": "markdown",
   "id": "5c3e068ba5aae15c",
   "metadata": {
    "collapsed": false
   },
   "source": [
    "### Krok 0 - Importowanie niezbędnych modułów do dalszej pracy"
   ]
  },
  {
   "cell_type": "code",
   "execution_count": null,
   "id": "initial_id",
   "metadata": {
    "collapsed": true
   },
   "outputs": [],
   "source": [
    "import pandas as pd\n",
    "import numpy as np\n",
    "import re\n",
    "import json\n",
    "import matplotlib.pyplot as plt"
   ]
  },
  {
   "cell_type": "markdown",
   "id": "4ded731473898ae7",
   "metadata": {
    "collapsed": false
   },
   "source": [
    "### Krok 1 - Załadowanie\n",
    "Poprawne załadowanie danych ze źródła internetowego do ramki danych (*DataFrame*)."
   ]
  },
  {
   "cell_type": "code",
   "execution_count": null,
   "id": "585922cf1f84da98",
   "metadata": {
    "collapsed": false
   },
   "outputs": [],
   "source": [
    "# Warto także pamiętać o poprawnym wpisaniu adresu URL\n",
    "url = \"http://data.insideairbnb.com/italy/campania/naples/2023-09-13/data/listings.csv.gz\""
   ]
  },
  {
   "cell_type": "markdown",
   "id": "e4ef372f2de0ee09",
   "metadata": {
    "collapsed": false
   },
   "source": [
    "Jak można zauważyć na stronie z danymi oraz w adresie URL, plik z danymi CSV jest pobierany w formacie `.gz`.\n",
    "Żeby poprawnie wczytać i rozpakować dane, używam parametru `compression='gzip'`. Do określenia kodowania danych używam parametru `encoding='utf-8'`. Jednak w tym przypadku wystarczy wykorzystanie funkcji domyślnej bezargumentowej. Pandas automatycznie wykrywa nagłówki, jeżeli dane ich zawierają."
   ]
  },
  {
   "cell_type": "code",
   "execution_count": null,
   "id": "ea0054e1ce2bff00",
   "metadata": {
    "collapsed": false
   },
   "outputs": [],
   "source": [
    "df = pd.read_csv(url)\n",
    "\n",
    "# zaladowanie z okreslonymi parametrami\n",
    "# df = pd.read_csv(url, compression='gzip', encoding='utf-8')"
   ]
  },
  {
   "cell_type": "markdown",
   "id": "ede9d01262f9d767",
   "metadata": {
    "collapsed": false
   },
   "source": [
    "### Krok 2 - Poznanie\n",
    "Poznanie rozmiaru zbioru danych (liczby obserwacji i liczby zmiennych, które je opisują) i oszacowanie czasochłonności procesu analizy.\n",
    "\n",
    "Za pomocą funkcji `df.shape` można dostać krotkę reprezentującą wymiarowość ramki ***DataFrame***."
   ]
  },
  {
   "cell_type": "code",
   "execution_count": null,
   "id": "e2ee9d1fd755acc3",
   "metadata": {
    "collapsed": false
   },
   "outputs": [],
   "source": [
    "df.shape"
   ]
  },
  {
   "cell_type": "markdown",
   "id": "7e6ff5b722b3e0ad",
   "metadata": {
    "collapsed": false
   },
   "source": [
    "W przypadku tego zbioru danych dostałem dwuelementową krotkę, w której *0*-wy element reprezentuje wierszy (liczba obserwacji) i *1*-szy element reprezentuje kolumny (liczba zmiennych). \n",
    "\n",
    "Prostymi poleceniami poznaję liczbę obserwacji, liczbę zmiennych oraz całkowity rozmiar zbioru danych:"
   ]
  },
  {
   "cell_type": "code",
   "execution_count": null,
   "id": "99c8d86460e0b6b6",
   "metadata": {
    "collapsed": false
   },
   "outputs": [],
   "source": [
    "liczba_obserwacji = df.shape[0]\n",
    "liczba_zmiennych = df.shape[1]\n",
    "print(\"Liczba obserwacji:\", liczba_obserwacji, \"\\nLiczba zmiennych:\", liczba_zmiennych)\n",
    "\n",
    "rozmiar_zbioru = df.size\n",
    "print(\"\\nRozmiar zbioru danych:\", rozmiar_zbioru)\n",
    "\n",
    "df.info()"
   ]
  },
  {
   "cell_type": "markdown",
   "id": "4c878884c2a94a6f",
   "metadata": {
    "collapsed": false
   },
   "source": [
    "### Krok 3 - Wyświetlenie\n",
    "Wyświetlenie próbki surowych danych w celu wyrobienia sobie wyobrażenia o nich – poznania struktury danych i wstępnej oceny przydatności poszczególnych zmiennych.\n",
    "\n",
    "Po pobraniu danych ze źródła należy sprawdzić, czy dane są poprawnie wyświetlane oraz zapoznać się z ich strukturą."
   ]
  },
  {
   "cell_type": "code",
   "execution_count": null,
   "id": "8e4a5abdfa664123",
   "metadata": {
    "collapsed": false
   },
   "outputs": [],
   "source": [
    "pd.set_option('display.max_columns', None)\n",
    "pd.set_option('display.max_rows', None)"
   ]
  },
  {
   "cell_type": "markdown",
   "id": "ed10257e4c2d5520",
   "metadata": {
    "collapsed": false
   },
   "source": [
    "### Krok 4 - Weryfikacja\n",
    "Weryfikacja typów poszczególnych zmiennych (całkowite, zmiennoprzecinkowe, kategoryczne porządkowe, kategoryczne nominalne, zmienne typu logicznego, daty) i ich ewentualna korekta (zamiana typu string na float, interpretacja zmiennych numerycznych jako kategorii itp.)."
   ]
  },
  {
   "cell_type": "code",
   "execution_count": null,
   "id": "e1fb46f1cfb75dc9",
   "metadata": {
    "collapsed": false
   },
   "outputs": [],
   "source": [
    "# zmiana wartości str na float\n",
    "df['host_response_rate'] = df['host_response_rate'].str.replace('[\\%]', \"\", regex=True).astype(float)/100\n",
    "df['host_acceptance_rate'] = df['host_acceptance_rate'].str.replace('[\\%]', \"\", regex=True).astype(float)/100\n",
    "df['price'] = df['price'].str.replace('[\\$,]', \"\", regex=True).astype(float)\n",
    "\n",
    "# zmiana wartości str na bool\n",
    "df.host_is_superhost = df.host_is_superhost.map({'f': False, 't': True})\n",
    "df.host_has_profile_pic = df.host_has_profile_pic.map({'f': False, 't': True})\n",
    "df.has_availability = df.has_availability.map({'f': False, 't': True})\n",
    "df.host_identity_verified = df.host_identity_verified.map({'f': False, 't': True})\n",
    "df.instant_bookable = df.instant_bookable.map({'f': False, 't': True})\n",
    "\n",
    "# ustawienie zmiennych kategorycznych\n",
    "df.host_response_time = df.host_response_time.astype('category')\n",
    "df.source = df.source.astype('category')\n",
    "df.host_location = df.host_location.astype('category')\n",
    "df.property_type = df.property_type.astype('category')\n",
    "df.room_type = df.room_type.astype('category')\n",
    "df.neighbourhood = df.neighbourhood.astype('category')\n",
    "df.neighbourhood_cleansed = df.neighbourhood_cleansed.astype('category')\n",
    "df.host_neighbourhood = df.host_neighbourhood.astype('category')\n",
    "\n",
    "# podział stringa na listę wartości\n",
    "df.host_verifications = df.host_verifications.str[1:-1].replace(\"[' ]\", '', regex=True).str.split(',')\n",
    "\n",
    "# użycie json.loads do ustawienia wartości kodowanych jsonem\n",
    "df.amenities = df.amenities.apply(json.loads)\n",
    "\n",
    "# ustawienie liczby łazienek na typ float\n",
    "df.bathrooms = df.bathrooms_text.str.replace(\"-\", \"0.5\").str.replace(\"[a-zA-Z ]\", \"\", regex=True).astype(float)\n",
    "\n",
    "# parsing daty\n",
    "df.host_since = pd.to_datetime(df.host_since)\n",
    "df.calendar_last_scraped = pd.to_datetime(df.calendar_last_scraped)\n",
    "df.first_review = pd.to_datetime(df.first_review)\n",
    "df.last_review = pd.to_datetime(df.last_review)\n",
    "df.last_scraped = pd.to_datetime(df.last_scraped)\n",
    "\n",
    "df.describe()"
   ]
  },
  {
   "cell_type": "markdown",
   "id": "78e621aaa618a9d6",
   "metadata": {
    "collapsed": false
   },
   "source": [
    "### Krok 5 - Podsumowanie\n",
    "Zbudowanie podsumowania zmiennych **numerycznych** opisujących zbiór, w postaci jednej tabelki, zawierającej podstawowe informacje:"
   ]
  },
  {
   "cell_type": "code",
   "execution_count": null,
   "id": "da74a65eb0b28c94",
   "metadata": {
    "collapsed": false
   },
   "outputs": [],
   "source": [
    "desc_num = df.select_dtypes(include=\"number\")                                               # wybranie tylko wartości numerycznych\n",
    "desc_num = desc_num.describe()                                                              # opis podstawowych parametrów wybranych danych\n",
    "desc_num = desc_num._append(desc_num.median(numeric_only=True).rename(\"median\"))            # dodanie do tabeli mediany\n",
    "desc_num = desc_num._append(desc_num.isna().sum().rename(\"missing\"))                        # dodanie do tabeli ilości brakującyh danych\n",
    "\n",
    "# desc_num = pd.concat([desc_num, desc_num.median(numeric_only=True).rename(\"median\")])     # dodanie do tabeli mediany\n",
    "# desc_num = pd.concat([desc_num, desc_num.isna().sum().rename(\"missing\")])                 # dodanie do tabeli ilości brakującyh danych\n",
    "\n",
    "desc_num"
   ]
  },
  {
   "cell_type": "markdown",
   "id": "2aaa85e9d6958e03",
   "metadata": {
    "collapsed": false
   },
   "source": [
    "Analiza zmiennych **kategorycznych**:"
   ]
  },
  {
   "cell_type": "code",
   "execution_count": null,
   "id": "6ee2df18c1b6500e",
   "metadata": {
    "collapsed": false
   },
   "outputs": [],
   "source": [
    "desc_cat = df.select_dtypes(include=\"category\")                                                             # wybranie zmiennych kategorycznych\n",
    "desc_cat = desc_cat.describe()                                                                              # opis podstawowych parametrów wybranych danych\n",
    "desc_cat = desc_cat._append(desc_cat.loc[\"count\"].subtract(df.shape[0]).abs().rename(\"missing\"))            # dodanie ilości brakujących danych\n",
    "\n",
    "# desc_cat = pd.concat([desc_cat, desc_cat.loc[\"count\"].subtract(df.shape[0]).abs().rename(\"missing\")])     # dodanie ilości brakujących danych\n",
    "\n",
    "desc_cat"
   ]
  },
  {
   "cell_type": "markdown",
   "id": "8d09e5ea4e65c534",
   "metadata": {
    "collapsed": false
   },
   "source": [
    "### Krok 6 - Sprawdzenie występowania braków danych w zbiorze"
   ]
  },
  {
   "cell_type": "code",
   "execution_count": null,
   "id": "538548fe379568f4",
   "metadata": {
    "collapsed": false
   },
   "outputs": [],
   "source": [
    "df.isnull().sum()"
   ]
  },
  {
   "cell_type": "code",
   "execution_count": null,
   "id": "1f1fbed2f610dff8",
   "metadata": {
    "collapsed": false
   },
   "outputs": [],
   "source": [
    "braki_danych = df.isnull().sum()\n",
    "\n",
    "podsumowanie_brakow = pd.DataFrame({\n",
    "    'Liczba_wystepowan': braki_danych.values,\n",
    "    'Procent_wystepowan': (braki_danych / len(df)) * 100\n",
    "})\n",
    "\n",
    "print(podsumowanie_brakow)"
   ]
  },
  {
   "cell_type": "markdown",
   "id": "976fb3192192bd8d",
   "metadata": {
    "collapsed": false
   },
   "source": [
    "### Krok 7 - Wizualizacja\n",
    "Wizualizacja rozkładu (wybranych) zmiennych (zarówno numerycznych, jak i kategorycznych) poprzez histogramy i próba ich scharakteryzowania (np. poprzez ich skośność i kurtozę) – będzie to pomocne np. w procesie imputacji (uzupełniania) zmiennych numerycznych\n",
    "\n",
    "### Wizualizacja zmiennych numerycznych:"
   ]
  },
  {
   "cell_type": "code",
   "execution_count": null,
   "id": "f13bd7e86df08229",
   "metadata": {
    "collapsed": false
   },
   "outputs": [],
   "source": [
    "var_numeric = df.select_dtypes(\"number\").isnull().sum()\n",
    "var_numeric = var_numeric[var_numeric > 0]\n",
    "\n",
    "for x in var_numeric.index:\n",
    "    if df[x].nunique() < 120:\n",
    "        try:\n",
    "            print(\"\\n\\n wykres dla \" + str(x) + \": \")\n",
    "            plt.clf()\n",
    "            df[x].groupby(df[x].values).sum().plot.bar(figsize=(30, 15), fontsize=14)\n",
    "            plt.show()\n",
    "        except:\n",
    "            print(\"\\t\\tbłąd! (pusta kolumna): \" + str(x))\n",
    "            plt.clf()\n",
    "    else:\n",
    "        print(\"\\n\\n wykres dla \" + str(x) + \": \")\n",
    "        print(\"za duzo wartosci, zaokraglono do 0,1 \\n \")\n",
    "        plt.clf()\n",
    "        zfile = round(df[x], 1)\n",
    "        zfile.groupby(zfile.values).sum().plot.bar(figsize=(30, 15), fontsize=14)\n",
    "        plt.show()"
   ]
  },
  {
   "cell_type": "markdown",
   "id": "c57fd003a33897f",
   "metadata": {
    "collapsed": false
   },
   "source": [
    "### Wizualizacja zmiennych kategorycznych: "
   ]
  },
  {
   "cell_type": "code",
   "execution_count": null,
   "id": "d22abb7a596ceb96",
   "metadata": {
    "collapsed": false
   },
   "outputs": [],
   "source": [
    "var_categoric = df.select_dtypes(\"category\").isnull().sum()\n",
    "var_categoric = var_categoric[var_categoric > 0]\n",
    "\n",
    "for x in var_categoric.index:\n",
    "    if df[x].nunique() < 120:\n",
    "        try:\n",
    "            print(\"\\n\\n wykres dla \" + str(x) + \": \")\n",
    "            plt.clf()\n",
    "            df[x].value_counts().plot.bar(figsize=(30, 15), fontsize=14)\n",
    "            plt.show()\n",
    "        except:\n",
    "            print(\"\\t\\tbłąd! (pusta kolumna): \" + str(x))\n",
    "            plt.clf()\n",
    "    else:\n",
    "        print(\"\\n\\n wykres dla \" + str(x) + \": \")\n",
    "        plt.clf()\n",
    "        df[x].value_counts().plot.bar(figsize=(60, 20), fontsize=12)\n",
    "        plt.show()"
   ]
  },
  {
   "cell_type": "markdown",
   "id": "c708e55b771627af",
   "metadata": {
    "collapsed": false
   },
   "source": [
    "### Charakteryzacja zmiennych:"
   ]
  },
  {
   "cell_type": "code",
   "execution_count": null,
   "id": "b9229580a8be5240",
   "metadata": {
    "collapsed": false
   },
   "outputs": [],
   "source": [
    "from scipy.stats import skew, kurtosis\n",
    "\n",
    "# wybrane zmienne numeryczne\n",
    "zmienne_numeryczne = ['bathrooms', 'bedrooms', 'beds', 'price']\n",
    "\n",
    "# charakteryzacja zmiennych numerycznych\n",
    "for it in zmienne_numeryczne:\n",
    "    print(f'{it}:')\n",
    "    print(f' Skośność: {skew(df[it]):.2f}')\n",
    "    print(f' Kurtoza: {kurtosis(df[it]):.2f}')"
   ]
  },
  {
   "cell_type": "markdown",
   "id": "c0d5bb598ee70731",
   "metadata": {
    "collapsed": false
   },
   "source": [
    "### Krok 8 - Czyszczenie danych\n",
    "Uzupełnienie brakujących danych (numeryczne – wartością średnią, kategoryczne – interpolacja)"
   ]
  },
  {
   "cell_type": "code",
   "execution_count": null,
   "id": "d7caf902b2bcce36",
   "metadata": {
    "collapsed": false
   },
   "outputs": [],
   "source": [
    "# wartosci numeryczne – uzupelnienie wartoscia srednia\n",
    "for x in var_numeric.index:\n",
    "    df[x].fillna((df[x].mean()), inplace=True)\n",
    "\n",
    "# wartosci kategoryczne – interpolacja\n",
    "for x in var_categoric.index:\n",
    "    df[x] = df[x].interpolate(method='pad')\n",
    "\n",
    "# usuwanie pustych kolumn\n",
    "df.dropna(how='all', axis='columns', inplace=True)"
   ]
  },
  {
   "cell_type": "markdown",
   "id": "6bb72748ebb7d5f8",
   "metadata": {
    "collapsed": false
   },
   "source": [
    "### Krok 9 - Zbadanie zależności pomiędzy zmiennymi\n",
    "### Obliczenie macierzy korelacji za pomocą współczynnika Pearsona"
   ]
  },
  {
   "cell_type": "code",
   "execution_count": null,
   "id": "594dbb4e16d670c7",
   "metadata": {
    "collapsed": false
   },
   "outputs": [],
   "source": [
    "cor_numeric = df.select_dtypes(\"number\")\n",
    "correlations = cor_numeric.corr(method='pearson', min_periods=1)\n",
    "correlations"
   ]
  },
  {
   "cell_type": "markdown",
   "id": "fa488d5c3f9e782f",
   "metadata": {
    "collapsed": false
   },
   "source": [
    "### Zwizualizowanie za pomocą Scatter Plot, Pair Plot i Heat Map"
   ]
  },
  {
   "cell_type": "code",
   "execution_count": null,
   "id": "62e619a0aa0c451d",
   "metadata": {
    "collapsed": false
   },
   "outputs": [],
   "source": [
    "import seaborn as sns\n",
    "sns.set()\n",
    "\n",
    "plt.figure(figsize=(20,30))\n",
    "sns.scatterplot(correlations, alpha=0.5)\n",
    "plt.xticks(rotation=45)\n",
    "plt.title('Scatter Plot')\n",
    "plt.show()\n",
    "\n",
    "# plt.figure(figsize=(10,10))\n",
    "# sns.pairplot(correlations)\n",
    "# plt.title('Pair Plot')\n",
    "# plt.show()\n",
    "\n",
    "plt.figure(figsize=(60,60))\n",
    "sns.heatmap(correlations, annot=True, cmap='vlag', vmin=-1, vmax=1)\n",
    "plt.title('Heat Map')\n",
    "plt.show()"
   ]
  }
 ],
 "metadata": {
  "kernelspec": {
   "display_name": "Python 3",
   "language": "python",
   "name": "python3"
  },
  "language_info": {
   "codemirror_mode": {
    "name": "ipython",
    "version": 3
   },
   "file_extension": ".py",
   "mimetype": "text/x-python",
   "name": "python",
   "nbconvert_exporter": "python",
   "pygments_lexer": "ipython3",
   "version": "3.11.4"
  }
 },
 "nbformat": 4,
 "nbformat_minor": 5
}
